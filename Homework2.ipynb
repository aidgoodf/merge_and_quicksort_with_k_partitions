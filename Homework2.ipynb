{
 "cells": [
  {
   "cell_type": "markdown",
   "id": "546c2537",
   "metadata": {},
   "source": [
    "# Aidan Goodfellow\n",
    "\n",
    "# Programming assignment 2\n"
   ]
  },
  {
   "cell_type": "markdown",
   "id": "37c7d081",
   "metadata": {},
   "source": [
    "## Problem 1: Merge Sort Plus"
   ]
  },
  {
   "cell_type": "code",
   "execution_count": 5,
   "id": "b77e901d",
   "metadata": {},
   "outputs": [
    {
     "ename": "ModuleNotFoundError",
     "evalue": "No module named 'rsrc'",
     "output_type": "error",
     "traceback": [
      "\u001b[1;31m---------------------------------------------------------------------------\u001b[0m",
      "\u001b[1;31mModuleNotFoundError\u001b[0m                       Traceback (most recent call last)",
      "\u001b[1;32m<ipython-input-5-5fd7a7197ab0>\u001b[0m in \u001b[0;36m<module>\u001b[1;34m\u001b[0m\n\u001b[1;32m----> 1\u001b[1;33m \u001b[1;32mimport\u001b[0m \u001b[0mrsrc\u001b[0m\u001b[1;33m\u001b[0m\u001b[1;33m\u001b[0m\u001b[0m\n\u001b[0m\u001b[0;32m      2\u001b[0m \u001b[1;33m\u001b[0m\u001b[0m\n",
      "\u001b[1;31mModuleNotFoundError\u001b[0m: No module named 'rsrc'"
     ]
    }
   ],
   "source": [
    "import rsrc\n",
    "\n"
   ]
  },
  {
   "cell_type": "code",
   "execution_count": 1,
   "id": "1e7a63ed",
   "metadata": {},
   "outputs": [
    {
     "name": "stdout",
     "output_type": "stream",
     "text": [
      "[3, 9, 10, 27, 38, 43, 82]\n",
      "[3, 9, 10, 27, 38, 43, 82]\n",
      "[3, 9, 10, 27, 38, 43, 82]\n"
     ]
    }
   ],
   "source": [
    "def merge_sort_plus(arr, k):\n",
    "    if k < 2 or k > 4:\n",
    "        raise ValueError(\"k must be between 2 and 4 inclusive\")\n",
    "\n",
    "    if len(arr) <= 1:\n",
    "        return arr\n",
    "\n",
    "    # Split the array into k equal parts\n",
    "    split_size = len(arr) // k\n",
    "    splits = [arr[i * split_size: (i + 1) * split_size] for i in range(k)]\n",
    "    \n",
    "    # if the array cannot be split into equal parts, add remaining elements from the end of the array to first splits one element at a time\n",
    "    if len(arr) % k != 0:\n",
    "        for i in range(len(arr) % k):\n",
    "            splits[i].append(arr[-(i + 1)])\n",
    "\n",
    "    # Recursively sort each split\n",
    "    sorted_splits = [merge_sort_plus(split, k) for split in splits]\n",
    "\n",
    "    # Merge the sorted splits\n",
    "    return merge_sorted_arrays(sorted_splits)\n",
    "\n",
    "\n",
    "# helper function to merge the partial arrays after they are sorted\n",
    "def merge_sorted_arrays(sorted_arrays):\n",
    "    result = []\n",
    "    pointers = [0] * len(sorted_arrays)\n",
    "\n",
    "    while True:\n",
    "        min_val = float('inf')\n",
    "        min_idx = -1\n",
    "\n",
    "        for i in range(len(sorted_arrays)):\n",
    "            if pointers[i] < len(sorted_arrays[i]) and sorted_arrays[i][pointers[i]] < min_val:\n",
    "                min_val = sorted_arrays[i][pointers[i]]\n",
    "                min_idx = i\n",
    "\n",
    "        if min_idx == -1:\n",
    "            break\n",
    "\n",
    "        result.append(min_val)\n",
    "        pointers[min_idx] += 1\n",
    "\n",
    "    return result\n",
    "\n",
    "# Test\n",
    "arr = [38, 27, 43, 3, 9, 82, 10]\n",
    "print(merge_sort_plus(arr, 2))  # Standard merge sort\n",
    "print(merge_sort_plus(arr, 3))  # 3-way merge sort\n",
    "print(merge_sort_plus(arr, 4))  # 4-way merge sort\n"
   ]
  },
  {
   "cell_type": "markdown",
   "id": "0154af49",
   "metadata": {},
   "source": [
    "## Problem 2: Random QS Plus"
   ]
  },
  {
   "cell_type": "code",
   "execution_count": 8,
   "id": "a719a835",
   "metadata": {},
   "outputs": [
    {
     "name": "stdout",
     "output_type": "stream",
     "text": [
      "[2, 3, 5, 6, 7, 9, 10, 11, 12, 14]\n",
      "[2, 3, 5, 6, 7, 9, 10, 11, 12, 14]\n",
      "[2, 3, 5, 6, 7, 9, 10, 11, 12, 14]\n"
     ]
    }
   ],
   "source": [
    "import random\n",
    "\n",
    "# soort pivots manually because we can't use built in functions\n",
    "def sort_pivots(pivots):\n",
    "    if len(pivots) == 2:\n",
    "        if pivots[0] > pivots[1]:\n",
    "            pivots[0], pivots[1] = pivots[1], pivots[0]\n",
    "    elif len(pivots) == 3:\n",
    "        if pivots[0] > pivots[1]:\n",
    "            pivots[0], pivots[1] = pivots[1], pivots[0]\n",
    "        if pivots[1] > pivots[2]:\n",
    "            pivots[1], pivots[2] = pivots[2], pivots[1]\n",
    "        if pivots[0] > pivots[1]:\n",
    "            pivots[0], pivots[1] = pivots[1], pivots[0]\n",
    "    return pivots\n",
    "\n",
    "def random_qs_plus(arr, k):\n",
    "    if k < 2 or k > 4:\n",
    "        raise ValueError(\"k must be between 2 and 4 inclusive\")\n",
    "        \n",
    "    if len(arr) <= 1:\n",
    "        return arr\n",
    "\n",
    "    # Select k-1 random pivots and sort them manually, use length of array if k-1 is larger than the number of elements in the array\n",
    "    num_pivots = min(len(arr), k-1)\n",
    "    pivots = sort_pivots(random.sample(arr, num_pivots))\n",
    "\n",
    "    # Create partitions based on the pivots\n",
    "    partitions = [[] for _ in range(k)]\n",
    "    for num in arr:\n",
    "        for i in range(k):\n",
    "            if i == k-1 or num <= pivots[i]:\n",
    "                partitions[i].append(num)\n",
    "                break\n",
    "\n",
    "    # Recursively sort each partition\n",
    "    sorted_partitions = [random_qs_plus(part, k) for part in partitions]\n",
    "\n",
    "    # Concatenate the sorted partitions\n",
    "    return sum(sorted_partitions, [])\n",
    "\n",
    "# Test\n",
    "arr = [9, 7, 5, 11, 12, 2, 14, 3, 10, 6]\n",
    "print(random_qs_plus(arr, 2))  # Standard quicksort\n",
    "print(random_qs_plus(arr, 3))  # 3-way quicksort\n",
    "print(random_qs_plus(arr, 4))  # 4-way quicksort\n",
    "\n"
   ]
  },
  {
   "cell_type": "markdown",
   "id": "fdf505aa",
   "metadata": {},
   "source": [
    "## Problem 3: Benchmarking"
   ]
  },
  {
   "cell_type": "code",
   "execution_count": null,
   "id": "c002f9ae",
   "metadata": {},
   "outputs": [],
   "source": [
    "import time\n",
    "import matplotlib.pyplot as plt\n",
    "\n",
    "def benchmark(func, max_size=5000, step=100):\n",
    "    times = {2: [], 3: [], 4: []}\n",
    "    sizes = list(range(step, max_size + 1, step))\n",
    "\n",
    "    for size in sizes:\n",
    "        arr = [random.randint(1, 10000) for _ in range(size)]\n",
    "        for k in [2, 3, 4]:\n",
    "            start_time = time.time()\n",
    "            func(arr.copy(), k)\n",
    "            elapsed_time = time.time() - start_time\n",
    "            times[k].append(elapsed_time)\n",
    "\n",
    "    return times, sizes\n",
    "\n",
    "# Benchmarking\n",
    "merge_sort_times, sizes = benchmark(merge_sort_plus, 5000, 100)\n",
    "random_qs_times, _ = benchmark(random_qs_plus, 5000, 100)\n",
    "\n",
    "# Plotting\n",
    "plt.figure(figsize=(12, 6))\n",
    "\n",
    "for k in [2, 3, 4]:\n",
    "    plt.plot(sizes, merge_sort_times[k], label=f\"Merge Sort (k={k})\")\n",
    "    plt.plot(sizes, random_qs_times[k], label=f\"Randomized Quick Sort (k={k})\", linestyle='--')\n",
    "\n",
    "plt.xlabel(\"Array Size\")\n",
    "plt.ylabel(\"Time (seconds)\")\n",
    "plt.title(\"Performance of Sorting Algorithms\")\n",
    "plt.legend()\n",
    "plt.grid(True)\n",
    "plt.show()\n"
   ]
  },
  {
   "cell_type": "code",
   "execution_count": null,
   "id": "66e964f0",
   "metadata": {},
   "outputs": [],
   "source": []
  }
 ],
 "metadata": {
  "kernelspec": {
   "display_name": "Python 3",
   "language": "python",
   "name": "python3"
  },
  "language_info": {
   "codemirror_mode": {
    "name": "ipython",
    "version": 3
   },
   "file_extension": ".py",
   "mimetype": "text/x-python",
   "name": "python",
   "nbconvert_exporter": "python",
   "pygments_lexer": "ipython3",
   "version": "3.8.8"
  }
 },
 "nbformat": 4,
 "nbformat_minor": 5
}
